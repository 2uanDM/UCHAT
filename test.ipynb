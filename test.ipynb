{
 "cells": [
  {
   "cell_type": "code",
   "execution_count": 9,
   "metadata": {},
   "outputs": [],
   "source": [
    "import requests"
   ]
  },
  {
   "cell_type": "code",
   "execution_count": 10,
   "metadata": {},
   "outputs": [],
   "source": [
    "session = requests.Session()"
   ]
  },
  {
   "cell_type": "code",
   "execution_count": 11,
   "metadata": {},
   "outputs": [
    {
     "name": "stderr",
     "output_type": "stream",
     "text": [
      "c:\\Users\\hokag\\Documents\\GitHub\\UCHAT\\.venv\\Lib\\site-packages\\urllib3\\connectionpool.py:1099: InsecureRequestWarning: Unverified HTTPS request is being made to host 'daotao.vnu.edu.vn'. Adding certificate verification is strongly advised. See: https://urllib3.readthedocs.io/en/latest/advanced-usage.html#tls-warnings\n",
      "  warnings.warn(\n",
      "c:\\Users\\hokag\\Documents\\GitHub\\UCHAT\\.venv\\Lib\\site-packages\\urllib3\\connectionpool.py:1099: InsecureRequestWarning: Unverified HTTPS request is being made to host 'daotao.vnu.edu.vn'. Adding certificate verification is strongly advised. See: https://urllib3.readthedocs.io/en/latest/advanced-usage.html#tls-warnings\n",
      "  warnings.warn(\n"
     ]
    },
    {
     "data": {
      "text/plain": [
       "<Response [200]>"
      ]
     },
     "execution_count": 11,
     "metadata": {},
     "output_type": "execute_result"
    }
   ],
   "source": [
    "mssv = '21040227'\n",
    "password = '21040227'\n",
    "\n",
    "payload = f'chkSubmit=ok&txtLoginId={mssv}&txtPassword={password}&txtSel=1'\n",
    "\n",
    "headers = {\n",
    "    'Accept': 'text/html,application/xhtml+xml,application/xml;q=0.9,image/webp,image/apng,*/*;q=0.8,application/signed-exchange;v=b3;q=0.7',\n",
    "    'Accept-Language': 'vi,en-US;q=0.9,en;q=0.8',\n",
    "    'Cache-Control': 'max-age=0',\n",
    "    'Connection': 'keep-alive',\n",
    "    'Content-Type': 'application/x-www-form-urlencoded',\n",
    "    'Origin': 'https://daotao.vnu.edu.vn',\n",
    "    'Referer': 'https://daotao.vnu.edu.vn/dkmh/login.asp',\n",
    "    'Sec-Fetch-Dest': 'document',\n",
    "    'Sec-Fetch-Mode': 'navigate',\n",
    "    'Sec-Fetch-Site': 'same-origin',\n",
    "    'Sec-Fetch-User': '?1',\n",
    "    'Upgrade-Insecure-Requests': '1',\n",
    "    'User-Agent': 'Mozilla/5.0 (Windows NT 10.0; Win64; x64) AppleWebKit/537.36 (KHTML, like Gecko) Chrome/119.0.0.0 Safari/537.36 Edg/119.0.0.0',\n",
    "    'sec-ch-ua': '\"Microsoft Edge\";v=\"119\", \"Chromium\";v=\"119\", \"Not?A_Brand\";v=\"24\"',\n",
    "    'sec-ch-ua-mobile': '?0',\n",
    "    'sec-ch-ua-platform': '\"Windows\"'\n",
    "}\n",
    "\n",
    "url = \"https://daotao.vnu.edu.vn/dkmh/login.asp\"\n",
    "\n",
    "# Get the session cookie\n",
    "session.request(\n",
    "    method='POST',\n",
    "    url=url,\n",
    "    headers=headers,\n",
    "    data=payload,\n",
    "    verify=False\n",
    ")\n"
   ]
  },
  {
   "cell_type": "code",
   "execution_count": 12,
   "metadata": {},
   "outputs": [
    {
     "name": "stderr",
     "output_type": "stream",
     "text": [
      "c:\\Users\\hokag\\Documents\\GitHub\\UCHAT\\.venv\\Lib\\site-packages\\urllib3\\connectionpool.py:1099: InsecureRequestWarning: Unverified HTTPS request is being made to host 'daotao.vnu.edu.vn'. Adding certificate verification is strongly advised. See: https://urllib3.readthedocs.io/en/latest/advanced-usage.html#tls-warnings\n",
      "  warnings.warn(\n"
     ]
    }
   ],
   "source": [
    "url = \"https://daotao.vnu.edu.vn/ListPoint/listpoint_Brc1.asp\"\n",
    "\n",
    "payload = {}\n",
    "headers = {\n",
    "  'Accept': 'text/html,application/xhtml+xml,application/xml;q=0.9,image/webp,image/apng,*/*;q=0.8,application/signed-exchange;v=b3;q=0.7',\n",
    "  'Accept-Language': 'vi',\n",
    "  'Connection': 'keep-alive',\n",
    "  'Referer': 'https://daotao.vnu.edu.vn/ListPoint/listpoint.asp',\n",
    "  'Sec-Fetch-Dest': 'iframe',\n",
    "  'Sec-Fetch-Mode': 'navigate',\n",
    "  'Sec-Fetch-Site': 'same-origin',\n",
    "  'Sec-Fetch-User': '?1',\n",
    "  'Upgrade-Insecure-Requests': '1',\n",
    "  'User-Agent': 'Mozilla/5.0 (Windows NT 10.0; Win64; x64) AppleWebKit/537.36 (KHTML, like Gecko) Chrome/119.0.0.0 Safari/537.36 Edg/119.0.0.0',\n",
    "  'sec-ch-ua': '\"Microsoft Edge\";v=\"119\", \"Chromium\";v=\"119\", \"Not?A_Brand\";v=\"24\"',\n",
    "  'sec-ch-ua-mobile': '?0',\n",
    "  'sec-ch-ua-platform': '\"Windows\"'\n",
    "}\n",
    "\n",
    "response = session.request(\"GET\", url, headers=headers, data=payload)"
   ]
  },
  {
   "cell_type": "code",
   "execution_count": 14,
   "metadata": {},
   "outputs": [],
   "source": [
    "with open('test.html', 'w', encoding='utf-8') as f:\n",
    "    f.write(response.content.decode('utf-8'))"
   ]
  },
  {
   "cell_type": "code",
   "execution_count": 15,
   "metadata": {},
   "outputs": [],
   "source": [
    "from bs4 import BeautifulSoup as bs"
   ]
  },
  {
   "cell_type": "code",
   "execution_count": 16,
   "metadata": {},
   "outputs": [
    {
     "name": "stdout",
     "output_type": "stream",
     "text": [
      "Chế Hạnh Ngân 21040227 QH.2021.F.1.E15.SP\n"
     ]
    }
   ],
   "source": [
    "with open('test.html', 'r', encoding='utf-8') as f:\n",
    "    soup = bs(f.read(), 'html.parser')\n",
    "\n",
    "# Find student info \n",
    "div_list_1 = soup.find('div', {'id': 'divList1'})\n",
    "table = div_list_1.find('table')\n",
    "tr_list = table.find_all('tr')\n",
    "tr_with_info = tr_list[1]\n",
    "cells = tr_with_info.find_all('td')\n",
    "name = cells[1].text.strip().replace('Sinh viên: ', '')\n",
    "mssv = cells[2].text.strip().replace('Mã số: ', '')\n",
    "lop = cells[3].text.strip().replace('Lớp quản lý: ', '')\n",
    "\n",
    "print(name, mssv, lop)\n",
    "\n"
   ]
  },
  {
   "cell_type": "code",
   "execution_count": 32,
   "metadata": {},
   "outputs": [
    {
     "name": "stdout",
     "output_type": "stream",
     "text": [
      "Current semester: 222\n",
      "ENG1001B - Địa lý đại cương - 3 - 9.7 - A+\n",
      "PHI1002 - Chủ nghĩa xã hội khoa học - 2 - 8.5 - A\n",
      "PSF3007 - Tâm lý học - 3 - 8.6 - A\n",
      "ENG4028 - Tiếng Anh 4A - 4 - 9.5 - A+\n",
      "ENG4029 - Tiếng Anh 4B - 4 - 8.9 - A\n",
      "ENG4032 - Tiếng Anh 4C - 4 - 8.5 - A\n",
      "FLF1010 - Trí tuệ cảm xúc và giao tiếp xã hội - 3 - 9.7 - A+\n",
      "Current semester: 221\n",
      "FLF1002 - Phương pháp luận nghiên cứu khoa học - 2 - 8.3 - B+\n",
      "ENG4025 - Tiếng Anh 3A - 4 - 9.5 - A+\n",
      "ENG4026 - Tiếng Anh 3B - 4 - 9 - A+\n",
      "VLF1053 - Tiếng Việt thực hành - 2 - 7.2 - B\n",
      "ENG4031 - Tiếng Anh 3C - 3 - 8.7 - A\n",
      "PEC1008 - Kinh tế chính trị Mác - Lê Nin - 2 - 8 - B+\n",
      "Current semester: 212\n",
      "PHI1006 - Triết học Mác -Lênin - 3 - 8.2 - B+\n",
      "ENG4023 - Tiếng Anh 2A - 4 - 10 - A+\n",
      "ENG4024 - Tiếng Anh 2B - 4 - 10 - A+\n",
      "FLF1007 - Công nghệ thông tin và truyền thông - 3 - 9.5 - A+\n",
      "FLF1407B - Tiếng Trung B1 - 5 - Đạt - \n",
      "Current semester: 211\n",
      "VLF1052 - Nhập môn Việt ngữ học - 3 - 9.8 - A+\n",
      "ENG4021 - Tiếng Anh 1A - 4 - 10 - A+\n",
      "ENG4022 - Tiếng Anh 1B - 4 - 10 - A+\n",
      "HIS1056 - Cơ sở văn hoá Việt Nam - 3 - 9.3 - A+\n",
      "FLF1008 - Kỹ năng học tập thành công bậc đại học - 3 - 9.2 - A+\n"
     ]
    }
   ],
   "source": [
    "# Find student's score by semester\n",
    "score_data = {}\n",
    "credits_data = {}\n",
    "current_semester = None\n",
    "\n",
    "div_list_3 = soup.find('div', {'id': 'divList3'})\n",
    "table = div_list_3.find('table')\n",
    "\n",
    "tr_list = table.find_all('tr')\n",
    "\n",
    "for tr in tr_list[:-3]:\n",
    "    attr = tr.attrs # Get attributes of tr tag in type dict\n",
    "    if attr.get('height') == '25': # This is a row of semester info\n",
    "        b_tag = tr.find('b').text.strip()\n",
    "        semester = b_tag.split(' ')[-1]\n",
    "        score_data[semester] = []\n",
    "        current_semester = semester\n",
    "        print(f'Current semester: {current_semester}')\n",
    "    else:\n",
    "        cells = tr.find_all('td')\n",
    "        \n",
    "        ma_hp = cells[1].text.strip()\n",
    "        hp_name = cells[2].text.strip()\n",
    "        so_tc = cells[3].text.strip()\n",
    "        diem_he_10 = cells[4].text.strip()\n",
    "        diem_chu = cells[5].text.strip()\n",
    "        \n",
    "        print(f'{ma_hp} - {hp_name} - {so_tc} - {diem_he_10} - {diem_chu}')\n",
    "        \n",
    "        score_data[current_semester].append({\n",
    "            'ma_hp': ma_hp,\n",
    "            'hp_name': hp_name,\n",
    "            'so_tc': so_tc,\n",
    "            'diem_he_10': diem_he_10,\n",
    "            'diem_chu': diem_chu\n",
    "        })"
   ]
  },
  {
   "cell_type": "code",
   "execution_count": 36,
   "metadata": {},
   "outputs": [
    {
     "name": "stdout",
     "output_type": "stream",
     "text": [
      "{'so_tc_tich_luy': '76', 'so_tc_dat': '71', 'diem_tb_tich_luy': '3.85'}\n"
     ]
    }
   ],
   "source": [
    "for idx, tr in enumerate(tr_list[-3:]):\n",
    "    b_tag = tr.find('b').text.strip()\n",
    "    \n",
    "    if idx == 0:\n",
    "        credits_data['so_tc_tich_luy'] = b_tag.split(' ')[-1].replace('\\xa0\\xa0','')\n",
    "    elif idx == 1:\n",
    "        credits_data['so_tc_dat'] = b_tag.split(' ')[-1].replace('\\xa0\\xa0','')\n",
    "    elif idx == 2:\n",
    "        credits_data['diem_tb_tich_luy'] = b_tag.split(' ')[-1].replace('\\xa0\\xa0','')\n",
    "\n",
    "print(credits_data)"
   ]
  }
 ],
 "metadata": {
  "kernelspec": {
   "display_name": ".venv",
   "language": "python",
   "name": "python3"
  },
  "language_info": {
   "codemirror_mode": {
    "name": "ipython",
    "version": 3
   },
   "file_extension": ".py",
   "mimetype": "text/x-python",
   "name": "python",
   "nbconvert_exporter": "python",
   "pygments_lexer": "ipython3",
   "version": "3.11.6"
  }
 },
 "nbformat": 4,
 "nbformat_minor": 2
}
